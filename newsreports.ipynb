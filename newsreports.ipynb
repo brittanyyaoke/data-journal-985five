{
 "cells": [
  {
   "cell_type": "code",
   "execution_count": 12,
   "metadata": {},
   "outputs": [
    {
     "ename": "SyntaxError",
     "evalue": "(unicode error) 'unicodeescape' codec can't decode bytes in position 2-3: truncated \\UXXXXXXXX escape (<ipython-input-12-2958a627523d>, line 61)",
     "output_type": "error",
     "traceback": [
      "\u001b[1;36m  File \u001b[1;32m\"<ipython-input-12-2958a627523d>\"\u001b[1;36m, line \u001b[1;32m61\u001b[0m\n\u001b[1;33m    wc_newsreports.to_file('C:\\Users\\yang\\Desktop\\cloud.png') #储存词云图\u001b[0m\n\u001b[1;37m                          ^\u001b[0m\n\u001b[1;31mSyntaxError\u001b[0m\u001b[1;31m:\u001b[0m (unicode error) 'unicodeescape' codec can't decode bytes in position 2-3: truncated \\UXXXXXXXX escape\n"
     ]
    }
   ],
   "source": [
    "from newspaper import Article\n",
    "\n",
    "url_list=[\n",
    "    'https://baijiahao.baidu.com/s?id=1668717304303166344&wfr=spider&for=pc',\n",
    "    'https://baijiahao.baidu.com/s?id=1669279340422319214&wfr=spider&for=pc',\n",
    "    'https://guancha.gmw.cn/2020-06/18/content_33923516.htm',\n",
    "    'http://data.163.com/20/0614/20/FF413TIA000181IU.html',\n",
    "    'http://caozhi.news.163.com/20/0623/10/FFQ4R9TO000181TI.html',\n",
    "    'https://www.sohu.com/a/403207998_268920',\n",
    "    'https://www.sohu.com/a/402952855_120179484',\n",
    "    'https://www.thepaper.cn/newsDetail_forward_7897842',\n",
    "    'http://www.xinhuanet.com/comments/2020-06/17/c_1126123298.htm'\n",
    "]\n",
    "\n",
    "news_title = []  #创建列表\n",
    "news_text = []\n",
    "news_publish_date=[]\n",
    "    \n",
    "for url in url_list:\n",
    "    news = Article(url,language='zh')\n",
    "    \n",
    "    news.download() #下载并解析新闻\n",
    "    news.parse()\n",
    "    \n",
    "    news_title.append(news.title)  #加入列表\n",
    "    news_text.append(news.text)   \n",
    "    news_publish_date.append(news.publish_date) \n",
    "    \n",
    "import pandas as pd\n",
    "data = pd.DataFrame({'title':news_title,'text':news_text,'date':news_publish_date})\n",
    "data\n",
    "\n",
    "import jieba  #使用结巴分词进行分词\n",
    "newsreports=' '.join(news_text)\n",
    "word_list=jieba.cut(newsreports,cut_all=False)\n",
    "print('precise mode:'+'/'.join(word_list))\n",
    "\n",
    "import wordcloud \n",
    "import imageio\n",
    "\n",
    "\n",
    "text=\"/\".join(jieba.cut(newsreports))\n",
    "\n",
    "wc_newsreports=WordCloud(\n",
    "    font_path='simsun.ttc',\n",
    "    background_color='white',\n",
    "  \n",
    "    width=1059,\n",
    "    height=585,\n",
    "    max_words=300,\n",
    "    max_font_size=60,\n",
    "    random_state=15,\n",
    "    scale=15).generate(text)\n",
    "\n",
    "import matplotlib.pyplot as plt\n",
    "\n",
    "plt.imshow(wc_newsreports)\n",
    "plt.axis('off')\n",
    "plt.show()\n",
    "\n",
    "wc_newsreports.to_file('cloud.png') #储存词云图\n",
    "\n",
    "\n",
    "\n",
    "\n",
    "\n",
    "\n",
    "\n",
    "    \n"
   ]
  },
  {
   "cell_type": "code",
   "execution_count": null,
   "metadata": {},
   "outputs": [],
   "source": []
  }
 ],
 "metadata": {
  "kernelspec": {
   "display_name": "Python 3",
   "language": "python",
   "name": "python3"
  },
  "language_info": {
   "codemirror_mode": {
    "name": "ipython",
    "version": 3
   },
   "file_extension": ".py",
   "mimetype": "text/x-python",
   "name": "python",
   "nbconvert_exporter": "python",
   "pygments_lexer": "ipython3",
   "version": "3.7.0"
  }
 },
 "nbformat": 4,
 "nbformat_minor": 2
}
